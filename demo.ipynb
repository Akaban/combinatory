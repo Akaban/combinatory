{
 "cells": [
  {
   "cell_type": "markdown",
   "metadata": {},
   "source": [
    "# Génération d'objets combinatoire décrits par une grammaire\n",
    "\n",
    "Ce notebook est utilisé pour executer les fonctions et méthodes de notre projet, ainsi qu'a des fins de tests."
   ]
  },
  {
   "cell_type": "code",
   "execution_count": 1,
   "metadata": {},
   "outputs": [],
   "source": [
    "from rules import UnionRule, ProductRule, SingletonRule, EpsilonRule, BoundRule, SequenceRule, init_grammar\n",
    "from rules import Union, Prod, NonTerm, Singleton, Epsilon, expand_init_grammar\n"
   ]
  },
  {
   "cell_type": "code",
   "execution_count": 2,
   "metadata": {
    "collapsed": true
   },
   "outputs": [],
   "source": [
    "from binarytree import BinaryTree, Leaf"
   ]
  },
  {
   "cell_type": "markdown",
   "metadata": {},
   "source": [
    "## Méthodes combinatoire\n",
    "\n",
    "Les méthodes count, rank, list, unrank et random. Exemple avec les arbres binaires"
   ]
  },
  {
   "cell_type": "code",
   "execution_count": 3,
   "metadata": {},
   "outputs": [
    {
     "data": {
      "text/plain": [
       "[(leaf, (leaf, (leaf, (leaf, leaf)))),\n",
       " (leaf, (leaf, ((leaf, leaf), leaf))),\n",
       " (leaf, ((leaf, leaf), (leaf, leaf))),\n",
       " (leaf, ((leaf, (leaf, leaf)), leaf)),\n",
       " (leaf, (((leaf, leaf), leaf), leaf)),\n",
       " ((leaf, leaf), (leaf, (leaf, leaf))),\n",
       " ((leaf, leaf), ((leaf, leaf), leaf)),\n",
       " ((leaf, (leaf, leaf)), (leaf, leaf)),\n",
       " (((leaf, leaf), leaf), (leaf, leaf)),\n",
       " ((leaf, (leaf, (leaf, leaf))), leaf),\n",
       " ((leaf, ((leaf, leaf), leaf)), leaf),\n",
       " (((leaf, leaf), (leaf, leaf)), leaf),\n",
       " (((leaf, (leaf, leaf)), leaf), leaf),\n",
       " ((((leaf, leaf), leaf), leaf), leaf)]"
      ]
     },
     "execution_count": 3,
     "metadata": {},
     "output_type": "execute_result"
    }
   ],
   "source": [
    "from grammars import treeGram\n",
    "\n",
    "treeGram[\"Tree\"].list(5)"
   ]
  },
  {
   "cell_type": "markdown",
   "metadata": {},
   "source": [
    "On doit avoir 14 arbres de taille 5"
   ]
  },
  {
   "cell_type": "code",
   "execution_count": 4,
   "metadata": {},
   "outputs": [
    {
     "data": {
      "text/plain": [
       "14"
      ]
     },
     "execution_count": 4,
     "metadata": {},
     "output_type": "execute_result"
    }
   ],
   "source": [
    "treeGram[\"Tree\"].count(5)"
   ]
  },
  {
   "cell_type": "markdown",
   "metadata": {},
   "source": [
    "Les implémentations de count et de list sont cohérentes entre elles"
   ]
  },
  {
   "cell_type": "code",
   "execution_count": 5,
   "metadata": {},
   "outputs": [
    {
     "data": {
      "text/plain": [
       "True"
      ]
     },
     "execution_count": 5,
     "metadata": {},
     "output_type": "execute_result"
    }
   ],
   "source": [
    "treeGram[\"Tree\"].count(5) == len(treeGram[\"Tree\"].list(5))"
   ]
  },
  {
   "cell_type": "code",
   "execution_count": 6,
   "metadata": {},
   "outputs": [
    {
     "data": {
      "text/plain": [
       "((leaf, leaf), (leaf, (leaf, leaf)))"
      ]
     },
     "execution_count": 6,
     "metadata": {},
     "output_type": "execute_result"
    }
   ],
   "source": [
    "treeGram[\"Tree\"].unrank(5,5)"
   ]
  },
  {
   "cell_type": "markdown",
   "metadata": {},
   "source": [
    "On doit obtenir la suite de nombres [0,1,2,3,4,5,6,7,8,9,10,11,12,13]"
   ]
  },
  {
   "cell_type": "code",
   "execution_count": 7,
   "metadata": {},
   "outputs": [
    {
     "data": {
      "text/plain": [
       "[0, 1, 2, 3, 4, 5, 6, 7, 8, 9, 10, 11, 12, 13]"
      ]
     },
     "execution_count": 7,
     "metadata": {},
     "output_type": "execute_result"
    }
   ],
   "source": [
    "[ treeGram[\"Tree\"].rank(o) for o in treeGram[\"Tree\"].list(5) ]"
   ]
  },
  {
   "cell_type": "markdown",
   "metadata": {},
   "source": [
    "Les implémentations de rank et de unrank sont cohérentes entre elles"
   ]
  },
  {
   "cell_type": "code",
   "execution_count": 8,
   "metadata": {},
   "outputs": [
    {
     "data": {
      "text/plain": [
       "True"
      ]
     },
     "execution_count": 8,
     "metadata": {},
     "output_type": "execute_result"
    }
   ],
   "source": [
    "tg=treeGram[\"Tree\"]\n",
    "all(tg.rank(tg.unrank(5,x)) == x for x in range(14))"
   ]
  },
  {
   "cell_type": "markdown",
   "metadata": {},
   "source": [
    "La grammaire des mots de Dyck fonctionne comme attendu"
   ]
  },
  {
   "cell_type": "code",
   "execution_count": 9,
   "metadata": {},
   "outputs": [
    {
     "data": {
      "text/plain": [
       "True"
      ]
     },
     "execution_count": 9,
     "metadata": {},
     "output_type": "execute_result"
    }
   ],
   "source": [
    "from grammars import dyckGram\n",
    "dg = dyckGram[\"Axiom\"]\n",
    "all(dg.rank(dg.unrank(6,x)) == x for x in range(dg.count(6)))"
   ]
  },
  {
   "cell_type": "code",
   "execution_count": 10,
   "metadata": {},
   "outputs": [
    {
     "data": {
      "text/plain": [
       "14"
      ]
     },
     "execution_count": 10,
     "metadata": {},
     "output_type": "execute_result"
    }
   ],
   "source": [
    "dg.count(8)"
   ]
  },
  {
   "cell_type": "code",
   "execution_count": 11,
   "metadata": {},
   "outputs": [
    {
     "data": {
      "text/plain": [
       "[0, 1, 2, 3, 4, 5, 6, 7, 8, 9, 10, 11, 12, 13]"
      ]
     },
     "execution_count": 11,
     "metadata": {},
     "output_type": "execute_result"
    }
   ],
   "source": [
    "[ dg.rank(dyckWord) for dyckWord in dg.list(8) ]"
   ]
  },
  {
   "cell_type": "markdown",
   "metadata": {},
   "source": [
    "## Grammaires expressives\n",
    "\n",
    "On utilise la fonction expand_init_grammar afin de convertir une grammaire condensée en grammaire classique, cette fonction renvoie une nouvelle grammaire. L'initialisation avec init_grammar est faîte par cette fonction sur la grammaire résultante."
   ]
  },
  {
   "cell_type": "code",
   "execution_count": 12,
   "metadata": {
    "collapsed": true
   },
   "outputs": [],
   "source": [
    "condensedTreeGram = {\"Tree\" : Union (Singleton(Leaf),Prod(NonTerm(\"Tree\"), NonTerm(\"Tree\"), \"\".join))}"
   ]
  },
  {
   "cell_type": "code",
   "execution_count": 13,
   "metadata": {},
   "outputs": [
    {
     "data": {
      "text/plain": [
       "{'Prod_Tree_Tree': ProductRule(Tree,Tree),\n",
       " 'Sing_leaf': SingletonRule(leaf),\n",
       " 'Tree': UnionRule(Sing_leaf,Prod_Tree_Tree)}"
      ]
     },
     "execution_count": 13,
     "metadata": {},
     "output_type": "execute_result"
    }
   ],
   "source": [
    "expandedTreeGram = expand_init_grammar(condensedTreeGram)\n",
    "expandedTreeGram"
   ]
  },
  {
   "cell_type": "markdown",
   "metadata": {},
   "source": [
    "Les deux grammaires sont bien les même"
   ]
  },
  {
   "cell_type": "code",
   "execution_count": 14,
   "metadata": {},
   "outputs": [
    {
     "data": {
      "text/plain": [
       "{'Leaf': SingletonRule(leaf),\n",
       " 'Node': ProductRule(Tree,Tree),\n",
       " 'Tree': UnionRule(Node,Leaf)}"
      ]
     },
     "execution_count": 14,
     "metadata": {},
     "output_type": "execute_result"
    }
   ],
   "source": [
    "treeGram"
   ]
  },
  {
   "cell_type": "markdown",
   "metadata": {},
   "source": [
    "## Règle BoundRule\n",
    "\n",
    "On peut utiliser la règle __BoundRule__ qui représente l'ensemble des éléments d'une grammaire d'une taille comprise entre lower_bound et upper_bound. Le paramètre n correspondant à la taille de l'ensemble est ignoré par cette règle."
   ]
  },
  {
   "cell_type": "code",
   "execution_count": 15,
   "metadata": {},
   "outputs": [
    {
     "data": {
      "text/plain": [
       "['',\n",
       " '()',\n",
       " '()()',\n",
       " '(())',\n",
       " '()()()',\n",
       " '()(())',\n",
       " '(())()',\n",
       " '(()())',\n",
       " '((()))',\n",
       " '()()()()',\n",
       " '()()(())',\n",
       " '()(())()',\n",
       " '()(()())',\n",
       " '()((()))',\n",
       " '(())()()',\n",
       " '(())(())',\n",
       " '(()())()',\n",
       " '((()))()',\n",
       " '(()()())',\n",
       " '(()(()))',\n",
       " '((())())',\n",
       " '((()()))',\n",
       " '(((())))']"
      ]
     },
     "execution_count": 15,
     "metadata": {},
     "output_type": "execute_result"
    }
   ],
   "source": [
    "from grammars import dyckGram\n",
    "\n",
    "dg=dyckGram[\"Axiom\"]\n",
    "BoundRule(dg,0,8).list(0)"
   ]
  },
  {
   "cell_type": "markdown",
   "metadata": {},
   "source": [
    "## Règle SequenceRule\n",
    "\n",
    "On peut utiliser la règle __SequenceRule__, celle-ci est implémentée comme héritère de __ConstructorRule__.\n",
    "\n",
    "La syntaxe est SequenceRule(nonTerm,nonTermVide,cons)"
   ]
  },
  {
   "cell_type": "code",
   "execution_count": 16,
   "metadata": {},
   "outputs": [
    {
     "data": {
      "text/plain": [
       "['',\n",
       " 'a',\n",
       " 'aa',\n",
       " 'aaa',\n",
       " 'aaaa',\n",
       " 'aaaaa',\n",
       " 'aaaaaa',\n",
       " 'aaaaaaa',\n",
       " 'aaaaaaaa',\n",
       " 'aaaaaaaaa',\n",
       " 'aaaaaaaaaa']"
      ]
     },
     "execution_count": 16,
     "metadata": {},
     "output_type": "execute_result"
    }
   ],
   "source": [
    "sizestr = lambda w: len(w)\n",
    "testSequence = {\n",
    "    'letter_a' : SingletonRule('a'),\n",
    "    'vide' : EpsilonRule(''),\n",
    "    'sequence' : SequenceRule(\"letter_a\", \"vide\", lambda a,b: a+b, lambda w: (w[0],w[1:]), sizestr)\n",
    "}\n",
    "init_grammar(testSequence)\n",
    "BoundRule(testSequence[\"sequence\"],0,10).list(0)"
   ]
  },
  {
   "cell_type": "code",
   "execution_count": 17,
   "metadata": {},
   "outputs": [
    {
     "data": {
      "text/plain": [
       "[0, 1, 2, 3, 4, 5, 6, 7, 8, 9, 10]"
      ]
     },
     "execution_count": 17,
     "metadata": {},
     "output_type": "execute_result"
    }
   ],
   "source": [
    "a=BoundRule(testSequence[\"sequence\"],0,10)\n",
    "[a.rank(el) for el in a.list(0)]"
   ]
  },
  {
   "cell_type": "code",
   "execution_count": 18,
   "metadata": {},
   "outputs": [
    {
     "data": {
      "text/plain": [
       "11"
      ]
     },
     "execution_count": 18,
     "metadata": {},
     "output_type": "execute_result"
    }
   ],
   "source": [
    "a.count(0)"
   ]
  },
  {
   "cell_type": "code",
   "execution_count": 19,
   "metadata": {},
   "outputs": [
    {
     "data": {
      "text/plain": [
       "'aaaaa'"
      ]
     },
     "execution_count": 19,
     "metadata": {},
     "output_type": "execute_result"
    }
   ],
   "source": [
    "a.unrank(5)"
   ]
  },
  {
   "cell_type": "code",
   "execution_count": 20,
   "metadata": {},
   "outputs": [
    {
     "data": {
      "text/plain": [
       "\"Valuation = {'Vide': 0, 'Seq': 0, 'Singleton': 1, 'AtomA': 1, 'AtomB': 1}\""
      ]
     },
     "execution_count": 20,
     "metadata": {},
     "output_type": "execute_result"
    }
   ],
   "source": [
    "SeqGram = {\n",
    "    \"Vide\" : EpsilonRule(''),\n",
    "    \"Seq\"       : SequenceRule(\"Singleton\", \"Vide\", lambda a,b: a+b, lambda string : (string[0], string[1:]), len),\n",
    "    \"Singleton\" : UnionRule(\"AtomA\", \"AtomB\", lambda string : 0 if string == \"A\" else 1, len),\n",
    "    \"AtomA\"     : SingletonRule(\"A\"),\n",
    "    \"AtomB\"     : SingletonRule(\"B\")\n",
    "}\n",
    "init_grammar(SeqGram)"
   ]
  },
  {
   "cell_type": "code",
   "execution_count": 21,
   "metadata": {},
   "outputs": [
    {
     "data": {
      "text/plain": [
       "'AAB'"
      ]
     },
     "execution_count": 21,
     "metadata": {},
     "output_type": "execute_result"
    }
   ],
   "source": [
    "SeqGram[\"Seq\"].unrank(3,1)"
   ]
  },
  {
   "cell_type": "code",
   "execution_count": null,
   "metadata": {
    "collapsed": true
   },
   "outputs": [],
   "source": []
  }
 ],
 "metadata": {
  "kernelspec": {
   "display_name": "Python 3",
   "language": "python",
   "name": "python3"
  },
  "language_info": {
   "codemirror_mode": {
    "name": "ipython",
    "version": 3
   },
   "file_extension": ".py",
   "mimetype": "text/x-python",
   "name": "python",
   "nbconvert_exporter": "python",
   "pygments_lexer": "ipython3",
   "version": "3.6.2"
  }
 },
 "nbformat": 4,
 "nbformat_minor": 2
}
