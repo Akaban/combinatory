{
 "cells": [
  {
   "cell_type": "markdown",
   "metadata": {},
   "source": [
    "\n",
    "Projet de Combinatoire et Énumération\n",
    "====== \n",
    "\n",
    "[Sujet du projet](https://github.com/hivert/CombiFIIL/raw/master/SujetProjet/projet.pdf)\n",
    "\n",
    "L'objectif de ce projet est d'implémenter un comptage d'objets combinatoire décrits par une grammaire quelconque, on utilisera pour ce faire les méthodes générales de produit cartésien et d'union disjointe vues en cours.\n",
    "\n"
   ]
  },
  {
   "cell_type": "markdown",
   "metadata": {},
   "source": [
    "## Questions de cours\n",
    "\n",
    "### Question 1\n",
    "\n",
    "Pour les grammaires des arbres et des mots de Fibonnacci, donner dans un tableau pour\n",
    "n = 0, . . . , 10 les réponses attendue pour la méthode count pour les 8 non terminaux\n",
    "des mots de Fibonnacci et les 3 non terminaux des arbres binaires\n",
    "\n",
    "_______________\n",
    "\n",
    "|         |  0|  1|  2|  3|  4|  5|  6|  7|  8|  9| 10|\n",
    "|:---     |---|---|---|---|---|---|---|---|---|---|---|\n",
    "| Fib     |   |   |   |   |   |   |   |   |   |   |   |\n",
    "| Cas1    |   |   |   |   |   |   |   |   |   |   |   |\n",
    "| Cas2    |   |   |   |   |   |   |   |   |   |   |   |\n",
    "| CasAu   |   |   |   |   |   |   |   |   |   |   |   |\n",
    "| CasBAu  |   |   |   |   |   |   |   |   |   |   |   |\n",
    "\n",
    "### Question 2\n",
    "\n",
    "Donner la grammaire de tous les mots sur l’alphabet A,B.\n",
    "\n",
    "____________\n",
    "\n",
    "\n",
    "### Question 3\n",
    "\n",
    "Donner la grammaire des mots de Dyck, c’est-à-dire les mots sur l’alphabet {(, )} et\n",
    "qui sont correctement parenthésés.\n",
    "\n",
    "____________\n",
    "\n",
    "\n",
    "### Question 4\n",
    "\n",
    "Donner la grammaire de mots sur l’alphabet A,B qui n’ont pas trois lettres consécuti-\n",
    "vement égales.\n",
    "\n",
    "____________\n",
    "\n",
    "### Question 5\n",
    "\n",
    "Donner la grammaire des palindromes sur l’alphabet A, B, même question sur l’alphabet\n",
    "A,B,C.\n",
    "\n",
    "_____________\n",
    "\n",
    "\n",
    "### Question 6\n",
    "\n",
    "Donner la grammaire des mots sur l’alphabet A,B qui contiennent autant de lettres A\n",
    "que de lettres B.\n",
    "\n",
    "______________\n",
    "\n",
    "\n",
    "### Question 7\n",
    "\n",
    "Écrire une fonction qui vérifie qu’une grammaire est correcte, c’est-à-dire que chaque\n",
    "non-terminal apparaissant dans une règle est bien défini par la grammaire.\n",
    "\n",
    "____________"
   ]
  },
  {
   "cell_type": "markdown",
   "metadata": {},
   "source": [
    "## Implémentation des classes de grammaire\n",
    "\n",
    "Nous commençons par implémenter les différentes classes qui modéliseront la grammaire en Python, on suivra la hierarchie suivante:\n",
    "\n",
    "![](./combi_class_hierarchy.png)\n"
   ]
  },
  {
   "cell_type": "markdown",
   "metadata": {},
   "source": [
    "- __AbstractRule__: Représente une abstraction des règles de la grammaire, en particulier elle implémentera un dictionnaire qui fera référence à la grammaire toute entière ainsi qu'une fonction __set_grammar__ qui permettra de modifier la grammaire (?)\n",
    "- __ConstructorRule__: Règles de constructions qui répresentent les symboles non-terminaux et qui sont dans notre cas __UnionRule__ et __ProductRule__\n",
    "    - ProductRule : Cette règle représente le produit cartésien de deux règles, elle hérite de la classe ConstructorRule\n",
    "    - UnionRule : Il s'agit de l'union disjointe de deux règles, elle hérite également de la classe ConstructorRule\n",
    "- __ConstantRule__: Règles constantes représentant les symboles terminaux\n",
    "    - EpsilonRule: Règle représentant le symbole $\\epsilon$\n",
    "    - SingletonRule: Règle représentant un symbole terminal quelconque"
   ]
  },
  {
   "cell_type": "code",
   "execution_count": 1,
   "metadata": {},
   "outputs": [],
   "source": [
    "from abc import ABCMeta, abstractmethod\n",
    "\n",
    "\n",
    "class AbstractRule(metaclass=ABCMeta):\n",
    "\n",
    "    def __init__(self,constant):\n",
    "        self._grammar = {}\n",
    "        self._constant = constant\n",
    "\n",
    "    def _set_grammar(self, gram):\n",
    "        self._grammar = gram\n",
    "        \n",
    "    def isConstant():\n",
    "        return self._constant\n",
    "\n",
    "\n",
    "class ConstantRule(AbstractRule):\n",
    "    def __init__(self, pyobj, valuation):\n",
    "        super().__init__(True)\n",
    "        self._object = pyobj\n",
    "        self.__valuation = valuation\n",
    "        \n",
    "    def valuation(self):\n",
    "        return self.__valuation\n",
    "\n",
    "\n",
    "class ConstructorRule(AbstractRule):\n",
    "    def __init__(self, value):\n",
    "        super().__init__(False)\n",
    "        self._valuation = float('inf')\n",
    "        self._parameters = value\n",
    "\n",
    "    def valuation(self):\n",
    "        return self._valuation\n",
    "\n",
    "    @abstractmethod\n",
    "    def _calc_valuation(self):\n",
    "        \"\"\"update valuation\"\"\"\n",
    "        return\n",
    "\n",
    "    def _update_valuation(self):\n",
    "        self._grammar[self._parameters[0]]._update_valuation()\n"
   ]
  },
  {
   "cell_type": "markdown",
   "metadata": {},
   "source": [
    "## Implémentation des classes héritières et algorithmique\n",
    "\n",
    "Dans cette partie on implémente les classes Rule qui héritent de nos classes abstraites précedentes, c'est également là qu'on implémentera l'ensemble des fonctions (calcul de valuation, rank, unrank, count, ...)"
   ]
  },
  {
   "cell_type": "code",
   "execution_count": 2,
   "metadata": {
    "collapsed": true
   },
   "outputs": [],
   "source": [
    "class UnionRule(ConstructorRule):\n",
    "    def __init__(self, rule1, rule2):\n",
    "        super().__init__((rule1, rule2))\n",
    "        \n",
    "    def _calc_valuation(self):\n",
    "        rule1, rule2 = tuple(map(lambda p : self._grammar[p], self._parameters))\n",
    "        valuation = min(rule1.valuation(), rule2.valuation())\n",
    "        self._valuation = valuation\n",
    "        \n",
    "class ProductRule(ConstructorRule):\n",
    "    def __init__(self, rule1, rule2, cons):\n",
    "        super().__init__((rule1, rule2))\n",
    "        self.__cons = cons\n",
    "        \n",
    "    def _calc_valuation(self):\n",
    "        rule1, rule2 = tuple(map(lambda p : self._grammar[p], self._parameters))\n",
    "        valuation = rule1.valuation() + rule2.valuation()\n",
    "        self._valuation = valuation\n",
    "        \n",
    "    def cons():\n",
    "        return self.__cons\n",
    "    \n",
    "class EpsilonRule(ConstantRule):\n",
    "    def __init__(self,obj):\n",
    "        super().__init__(obj,0)\n",
    "\n",
    "class SingletonRule(ConstantRule):\n",
    "    def __init__(self,obj):\n",
    "        super().__init__(obj,1)"
   ]
  },
  {
   "cell_type": "code",
   "execution_count": 3,
   "metadata": {
    "collapsed": true
   },
   "outputs": [],
   "source": [
    "class BinaryTree():\n",
    "    \n",
    "    def __init__(self, children = None):\n",
    "        \"\"\"\n",
    "        A binary tree is either a leaf or a node with two subtrees.\n",
    "        \n",
    "        INPUT:\n",
    "            \n",
    "            - children, either None (for a leaf), or a list of size excatly 2 \n",
    "            of either two binary trees or 2 objects that can be made into binary trees\n",
    "        \"\"\"\n",
    "        self._isleaf = (children is None)\n",
    "        if not self._isleaf:\n",
    "            if len(children) != 2:\n",
    "                raise ValueError(\"A binary tree needs exactly two children\")\n",
    "            self._children = tuple(c if isinstance(c,BinaryTree) else BinaryTree(c) for c in children)\n",
    "        self._size = None\n",
    "        \n",
    "    def __repr__(self):\n",
    "        if self.is_leaf():\n",
    "            return \"leaf\"\n",
    "        return str(self._children)\n",
    "    \n",
    "    def __eq__(self, other):\n",
    "        \"\"\"\n",
    "        Return true if other represents the same binary tree as self\n",
    "        \"\"\"\n",
    "        if not isinstance(other, BinaryTree):\n",
    "            return False\n",
    "        if self.is_leaf():\n",
    "            return other.is_leaf()\n",
    "        return self.left() == other.left() and self.right() == other.right()\n",
    "    \n",
    "    \n",
    "    def left(self):\n",
    "        \"\"\"\n",
    "        Return the left subtree of self\n",
    "        \"\"\"\n",
    "        return self._children[0]\n",
    "    \n",
    "    def right(self):\n",
    "        \"\"\"\n",
    "        Return the right subtree of self\n",
    "        \"\"\"\n",
    "        return self._children[1]\n",
    "    \n",
    "    def is_leaf(self):\n",
    "        \"\"\"\n",
    "        Return true is self is a leaf\n",
    "        \"\"\"\n",
    "        return self._isleaf\n",
    "    \n",
    "    \n",
    "leaf = BinaryTree()"
   ]
  },
  {
   "cell_type": "code",
   "execution_count": 22,
   "metadata": {},
   "outputs": [],
   "source": [
    "treeGram = {\"Tree\" : UnionRule(\"Node\", \"Leaf\"),\n",
    "\"Node\" : ProductRule(\"Tree\", \"Tree\", lambda c : BinaryTree([c[0],c[1]])),\n",
    "\"Leaf\" : SingletonRule(leaf)}\n",
    "\n",
    "def init_grammar(gram):\n",
    "    \n",
    "    for ruleName, ruleDef in gram.items():\n",
    "        \n",
    "        if not ruleDef._constant:\n",
    "            for pr in ruleDef._parameters :\n",
    "                if pr not in gram:\n",
    "                    raise ValueError(\"A rule of the grammar (\"+pr+\") does not exist\")\n",
    "                \n",
    "        ruleDef._set_grammar(gram)\n",
    "        \n",
    "    init_valuation = [rule.valuation() for rule in gram.values()]\n",
    "\n",
    "    print(init_valuation)\n",
    "    \n",
    "                \n",
    "        \n",
    "        "
   ]
  },
  {
   "cell_type": "code",
   "execution_count": 23,
   "metadata": {},
   "outputs": [
    {
     "name": "stdout",
     "output_type": "stream",
     "text": [
      "[inf, inf, 1]\n"
     ]
    }
   ],
   "source": [
    "init_grammar(treeGram)"
   ]
  },
  {
   "cell_type": "code",
   "execution_count": 24,
   "metadata": {},
   "outputs": [],
   "source": [
    "for k, v in treeGram.items():\n",
    "    if not v._constant:\n",
    "        v._calc_valuation()"
   ]
  },
  {
   "cell_type": "code",
   "execution_count": 25,
   "metadata": {},
   "outputs": [
    {
     "data": {
      "text/plain": [
       "[1, 2, 1]"
      ]
     },
     "execution_count": 25,
     "metadata": {},
     "output_type": "execute_result"
    }
   ],
   "source": [
    "[rule.valuation() for rule in treeGram.values()]"
   ]
  },
  {
   "cell_type": "code",
   "execution_count": 26,
   "metadata": {
    "collapsed": true
   },
   "outputs": [],
   "source": [
    "incorrectGram = {\"Incorrect\" : UnionRule(\"Incorrect\",\"Incorrect\")}"
   ]
  },
  {
   "cell_type": "code",
   "execution_count": 27,
   "metadata": {},
   "outputs": [
    {
     "name": "stdout",
     "output_type": "stream",
     "text": [
      "[inf]\n"
     ]
    }
   ],
   "source": [
    "init_grammar(incorrectGram)"
   ]
  },
  {
   "cell_type": "code",
   "execution_count": 30,
   "metadata": {
    "collapsed": true
   },
   "outputs": [],
   "source": [
    "for k, v in incorrectGram.items():\n",
    "    if not v._constant:\n",
    "        v._calc_valuation()"
   ]
  },
  {
   "cell_type": "code",
   "execution_count": 31,
   "metadata": {},
   "outputs": [
    {
     "data": {
      "text/plain": [
       "[inf]"
      ]
     },
     "execution_count": 31,
     "metadata": {},
     "output_type": "execute_result"
    }
   ],
   "source": [
    "[rule.valuation() for rule in incorrectGram.values()]"
   ]
  }
 ],
 "metadata": {
  "kernelspec": {
   "display_name": "Python 3",
   "language": "python",
   "name": "python3"
  },
  "language_info": {
   "codemirror_mode": {
    "name": "ipython",
    "version": 3
   },
   "file_extension": ".py",
   "mimetype": "text/x-python",
   "name": "python",
   "nbconvert_exporter": "python",
   "pygments_lexer": "ipython3",
   "version": "3.6.2"
  }
 },
 "nbformat": 4,
 "nbformat_minor": 2
}
