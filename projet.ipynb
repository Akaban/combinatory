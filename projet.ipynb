{
 "cells": [
  {
   "cell_type": "markdown",
   "metadata": {},
   "source": [
    "\n",
    "Projet de Combinatoire et Énumération\n",
    "====== \n",
    "\n",
    "[Sujet du projet](https://github.com/hivert/CombiFIIL/raw/master/SujetProjet/projet.pdf)\n",
    "\n",
    "L'objectif de ce projet est d'implémenter un comptage d'objets combinatoire décrits par une grammaire quelconque, on utilisera pour ce faire les méthodes générales de produit cartésien et d'union disjointe vues en cours.\n",
    "\n",
    "## Questions de cours\n",
    "\n"
   ]
  },
  {
   "cell_type": "markdown",
   "metadata": {},
   "source": [
    "## Implémentation des classes de grammaire\n",
    "\n",
    "Nous commençons par implémenter les différentes classes qui modéliseront la grammaire en Python, on suivra la hierarchie suivante:\n",
    "\n",
    "![](./combi_class_hierarchy.png)\n"
   ]
  },
  {
   "cell_type": "markdown",
   "metadata": {},
   "source": [
    "- __AbstractRule__: Représente une abstraction des règles de la grammaire, en particulier elle implémentera un dictionnaire qui fera référence à la grammaire toute entière ainsi qu'une fonction __set_grammar__ qui permettra de modifier la grammaire (?)\n",
    "- __ConstructorRule__: Règles de constructions qui répresentent les symboles non-terminaux et qui sont dans notre cas __UnionRule__ et __ProductRule__\n",
    "    - ProductRule : Cette règle représente le produit cartésien de deux règles, elle hérite de la classe ConstructorRule\n",
    "    - UnionRule : Il s'agit de l'union disjointe de deux règles, elle hérite également de la classe ConstructorRule\n",
    "- __ConstantRule__: Règles constantes représentant les symboles terminaux\n",
    "    - EpsilonRule: Règle représentant le symbole $\\epsilon$\n",
    "    - SingletonRule: Règle représentant un symbole terminal quelconque"
   ]
  },
  {
   "cell_type": "code",
   "execution_count": 8,
   "metadata": {},
   "outputs": [],
   "source": [
    "from abc import ABCMeta, abstractmethod\n",
    "\n",
    "\n",
    "class AbstractRule(metaclass=ABCMeta):\n",
    "\n",
    "    def __init__(self):\n",
    "        self._grammar = {}\n",
    "\n",
    "    def _set_grammar(self, gram):\n",
    "        self._grammar = gram\n",
    "\n",
    "\n",
    "class ConstantRule(AbstractRule):\n",
    "    def __init__(self, pyobj, valuation):\n",
    "        super().__init__()\n",
    "        self._object = pyobj\n",
    "        self.__valuation = valuation\n",
    "        \n",
    "    def valuation(self):\n",
    "        return self.__valuation\n",
    "\n",
    "\n",
    "class ConstructorRule(AbstractRule):\n",
    "    def __init__(self, value):\n",
    "        super().__init__()\n",
    "        self._valuation = float('inf')\n",
    "        self._parameters = value\n",
    "\n",
    "    def valuation(self):\n",
    "        return self._valuation\n",
    "\n",
    "    @abstractmethod\n",
    "    def _calc_valuation(self):\n",
    "        \"\"\"update valuation\"\"\"\n",
    "\n",
    "    def _update_valuation(self):\n",
    "        self._grammar[self._parameters[0]]._update_valuation()\n",
    "\n",
    "\n",
    "class UnionRule(ConstructorRule):\n",
    "    def __init__(self, value):\n",
    "        super(UnionRule, self).__init__(value)\n",
    "\n"
   ]
  }
 ],
 "metadata": {
  "kernelspec": {
   "display_name": "Python 3",
   "language": "python",
   "name": "python3"
  },
  "language_info": {
   "codemirror_mode": {
    "name": "ipython",
    "version": 3
   },
   "file_extension": ".py",
   "mimetype": "text/x-python",
   "name": "python",
   "nbconvert_exporter": "python",
   "pygments_lexer": "ipython3",
   "version": "3.6.1"
  }
 },
 "nbformat": 4,
 "nbformat_minor": 2
}
